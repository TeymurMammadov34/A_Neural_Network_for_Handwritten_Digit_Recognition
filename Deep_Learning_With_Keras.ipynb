{
 "cells": [
  {
   "cell_type": "markdown",
   "id": "59b2dcda-7b6b-4d43-a5a9-6ffd8d04f200",
   "metadata": {},
   "source": [
    "## Kütüphanelerin içe aktarılması"
   ]
  },
  {
   "cell_type": "code",
   "execution_count": 62,
   "id": "fcdc9709-2ffc-4abc-b879-eed51389b866",
   "metadata": {},
   "outputs": [],
   "source": [
    "# !pip install tensorflow\n",
    "# !pip install keras\n",
    "import tensorflow as tf\n",
    "import numpy as np"
   ]
  },
  {
   "cell_type": "code",
   "execution_count": 63,
   "id": "f11d5c83-1231-4932-bcd8-0ced02d4494c",
   "metadata": {},
   "outputs": [],
   "source": [
    "from keras.datasets import mnist\n",
    "from keras.utils import to_categorical\n",
    "from keras.callbacks import EarlyStopping, ModelCheckpoint\n",
    "from keras.models import Sequential, load_model\n",
    "from keras.layers import Dense\n",
    "import matplotlib.pyplot as plt\n",
    "import warnings\n",
    "warnings.filterwarnings(\"ignore\")"
   ]
  },
  {
   "cell_type": "markdown",
   "id": "51ce6f3b-a8eb-484b-bc27-ac4057ab9d69",
   "metadata": {},
   "source": [
    "## Veri setinin hazırlanması ve preprocessing"
   ]
  },
  {
   "cell_type": "code",
   "execution_count": 170,
   "id": "ea9beebe-a507-4385-9638-5f11d9d0487e",
   "metadata": {},
   "outputs": [
    {
     "data": {
      "text/plain": [
       "((60000, 28, 28), (10000, 28, 28))"
      ]
     },
     "execution_count": 170,
     "metadata": {},
     "output_type": "execute_result"
    }
   ],
   "source": [
    "# mnist veri setini yükle, eğitim ve test seti olarak\n",
    "(x_train,y_train), (x_test,y_test) = mnist.load_data()\n",
    "x_train.shape,x_test.shape"
   ]
  },
  {
   "cell_type": "code",
   "execution_count": 171,
   "id": "56a6038c-0db0-49e2-8d86-e87875144a91",
   "metadata": {},
   "outputs": [
    {
     "data": {
      "image/png": "[encoded data removed]",
      "text/plain": [
       "<Figure size 1000x500 with 5 Axes>"
      ]
     },
     "metadata": {},
     "output_type": "display_data"
    }
   ],
   "source": [
    "plt.figure(figsize = (10,5))\n",
    "for i in range(5):\n",
    "    plt.subplot(2,3, i+1)\n",
    "    plt.imshow(x_train[i], cmap=\"gray\")\n",
    "    plt.title(f\"label: {y_train[i]}\")\n",
    "    plt.axis(\"off\")\n",
    "\n",
    "plt.show()"
   ]
  },
  {
   "cell_type": "code",
   "execution_count": 122,
   "id": "d166e8b4-a4e9-4235-a9ff-05a47cecbec4",
   "metadata": {},
   "outputs": [],
   "source": [
    "# veri setinin normalize edelim, 0-255 aralığındaki pixel değerlerini 0-1 arasına ölçeklendiriyoruz.\n",
    "\n",
    "x_train = x_train.reshape(-1,28*28).astype(\"float\")/255\n",
    "x_test = x_test.reshape(-1,28*28).astype(\"float\")/255\n",
    "\n",
    "# etiketleri kategorik hale çeviriyoruz (0-9 rakamları one-hot encoding yapıyoruz)\n",
    "y_train = to_categorical(y_train, num_classes=10)\n",
    "y_test = to_categorical(y_test, num_classes=10)"
   ]
  },
  {
   "cell_type": "code",
   "execution_count": 123,
   "id": "955b6e20-19b6-4312-adf0-e9db6b20f9ad",
   "metadata": {},
   "outputs": [
    {
     "data": {
      "text/plain": [
       "((60000, 784), (10000, 784))"
      ]
     },
     "execution_count": 123,
     "metadata": {},
     "output_type": "execute_result"
    }
   ],
   "source": [
    "x_train.shape,x_test.shape"
   ]
  },
  {
   "cell_type": "code",
   "execution_count": 124,
   "id": "c4ebc737-4d7c-4d40-822c-4fe01d3dc609",
   "metadata": {},
   "outputs": [
    {
     "data": {
      "text/plain": [
       "(1.0, 0.0)"
      ]
     },
     "execution_count": 124,
     "metadata": {},
     "output_type": "execute_result"
    }
   ],
   "source": [
    "np.max(x_train),np.min(x_train)"
   ]
  },
  {
   "cell_type": "markdown",
   "id": "8ba49db5-da34-441c-8ad7-9b25cba793c7",
   "metadata": {},
   "source": [
    "## ANN modelinin oluşturulması ve derlenmesi"
   ]
  },
  {
   "cell_type": "code",
   "execution_count": 125,
   "id": "0d8d7f87-906d-4685-b390-a67c38dbedae",
   "metadata": {},
   "outputs": [],
   "source": [
    "model = Sequential()\n",
    "\n",
    "# ilk katman: 512 cell, Relu Activation function, input size 28*28=784\n",
    "model.add(Dense(512, activation=\"relu\", input_shape = (28*28,)))\n",
    "\n",
    "# ikinci katman: 256 cell, activation:relu\n",
    "model.add(Dense(256, activation=\"relu\"))\n",
    "\n",
    "# output layer: 10 , activation:softmax\n",
    "model.add(Dense(10, activation = \"softmax\"))"
   ]
  },
  {
   "cell_type": "code",
   "execution_count": 126,
   "id": "27c94424-07ab-4270-ad24-3f718395ba04",
   "metadata": {},
   "outputs": [
    {
     "data": {
      "text/html": [
       "<pre style=\"white-space:pre;overflow-x:auto;line-height:normal;font-family:Menlo,'DejaVu Sans Mono',consolas,'Courier New',monospace\"><span style=\"font-weight: bold\">Model: \"sequential_10\"</span>\n",
       "</pre>\n"
      ],
      "text/plain": [
       "\u001b[1mModel: \"sequential_10\"\u001b[0m\n"
      ]
     },
     "metadata": {},
     "output_type": "display_data"
    },
    {
     "data": {
      "text/html": [
       "<pre style=\"white-space:pre;overflow-x:auto;line-height:normal;font-family:Menlo,'DejaVu Sans Mono',consolas,'Courier New',monospace\">┏━━━━━━━━━━━━━━━━━━━━━━━━━━━━━━━━━┳━━━━━━━━━━━━━━━━━━━━━━━━┳━━━━━━━━━━━━━━━┓\n",
       "┃<span style=\"font-weight: bold\"> Layer (type)                    </span>┃<span style=\"font-weight: bold\"> Output Shape           </span>┃<span style=\"font-weight: bold\">       Param # </span>┃\n",
       "┡━━━━━━━━━━━━━━━━━━━━━━━━━━━━━━━━━╇━━━━━━━━━━━━━━━━━━━━━━━━╇━━━━━━━━━━━━━━━┩\n",
       "│ dense_28 (<span style=\"color: #0087ff; text-decoration-color: #0087ff\">Dense</span>)                │ (<span style=\"color: #00d7ff; text-decoration-color: #00d7ff\">None</span>, <span style=\"color: #00af00; text-decoration-color: #00af00\">512</span>)            │       <span style=\"color: #00af00; text-decoration-color: #00af00\">401,920</span> │\n",
       "├─────────────────────────────────┼────────────────────────┼───────────────┤\n",
       "│ dense_29 (<span style=\"color: #0087ff; text-decoration-color: #0087ff\">Dense</span>)                │ (<span style=\"color: #00d7ff; text-decoration-color: #00d7ff\">None</span>, <span style=\"color: #00af00; text-decoration-color: #00af00\">256</span>)            │       <span style=\"color: #00af00; text-decoration-color: #00af00\">131,328</span> │\n",
       "├─────────────────────────────────┼────────────────────────┼───────────────┤\n",
       "│ dense_30 (<span style=\"color: #0087ff; text-decoration-color: #0087ff\">Dense</span>)                │ (<span style=\"color: #00d7ff; text-decoration-color: #00d7ff\">None</span>, <span style=\"color: #00af00; text-decoration-color: #00af00\">10</span>)             │         <span style=\"color: #00af00; text-decoration-color: #00af00\">2,570</span> │\n",
       "└─────────────────────────────────┴────────────────────────┴───────────────┘\n",
       "</pre>\n"
      ],
      "text/plain": [
       "┏━━━━━━━━━━━━━━━━━━━━━━━━━━━━━━━━━┳━━━━━━━━━━━━━━━━━━━━━━━━┳━━━━━━━━━━━━━━━┓\n",
       "┃\u001b[1m \u001b[0m\u001b[1mLayer (type)                   \u001b[0m\u001b[1m \u001b[0m┃\u001b[1m \u001b[0m\u001b[1mOutput Shape          \u001b[0m\u001b[1m \u001b[0m┃\u001b[1m \u001b[0m\u001b[1m      Param #\u001b[0m\u001b[1m \u001b[0m┃\n",
       "┡━━━━━━━━━━━━━━━━━━━━━━━━━━━━━━━━━╇━━━━━━━━━━━━━━━━━━━━━━━━╇━━━━━━━━━━━━━━━┩\n",
       "│ dense_28 (\u001b[38;5;33mDense\u001b[0m)                │ (\u001b[38;5;45mNone\u001b[0m, \u001b[38;5;34m512\u001b[0m)            │       \u001b[38;5;34m401,920\u001b[0m │\n",
       "├─────────────────────────────────┼────────────────────────┼───────────────┤\n",
       "│ dense_29 (\u001b[38;5;33mDense\u001b[0m)                │ (\u001b[38;5;45mNone\u001b[0m, \u001b[38;5;34m256\u001b[0m)            │       \u001b[38;5;34m131,328\u001b[0m │\n",
       "├─────────────────────────────────┼────────────────────────┼───────────────┤\n",
       "│ dense_30 (\u001b[38;5;33mDense\u001b[0m)                │ (\u001b[38;5;45mNone\u001b[0m, \u001b[38;5;34m10\u001b[0m)             │         \u001b[38;5;34m2,570\u001b[0m │\n",
       "└─────────────────────────────────┴────────────────────────┴───────────────┘\n"
      ]
     },
     "metadata": {},
     "output_type": "display_data"
    },
    {
     "data": {
      "text/html": [
       "<pre style=\"white-space:pre;overflow-x:auto;line-height:normal;font-family:Menlo,'DejaVu Sans Mono',consolas,'Courier New',monospace\"><span style=\"font-weight: bold\"> Total params: </span><span style=\"color: #00af00; text-decoration-color: #00af00\">535,818</span> (2.04 MB)\n",
       "</pre>\n"
      ],
      "text/plain": [
       "\u001b[1m Total params: \u001b[0m\u001b[38;5;34m535,818\u001b[0m (2.04 MB)\n"
      ]
     },
     "metadata": {},
     "output_type": "display_data"
    },
    {
     "data": {
      "text/html": [
       "<pre style=\"white-space:pre;overflow-x:auto;line-height:normal;font-family:Menlo,'DejaVu Sans Mono',consolas,'Courier New',monospace\"><span style=\"font-weight: bold\"> Trainable params: </span><span style=\"color: #00af00; text-decoration-color: #00af00\">535,818</span> (2.04 MB)\n",
       "</pre>\n"
      ],
      "text/plain": [
       "\u001b[1m Trainable params: \u001b[0m\u001b[38;5;34m535,818\u001b[0m (2.04 MB)\n"
      ]
     },
     "metadata": {},
     "output_type": "display_data"
    },
    {
     "data": {
      "text/html": [
       "<pre style=\"white-space:pre;overflow-x:auto;line-height:normal;font-family:Menlo,'DejaVu Sans Mono',consolas,'Courier New',monospace\"><span style=\"font-weight: bold\"> Non-trainable params: </span><span style=\"color: #00af00; text-decoration-color: #00af00\">0</span> (0.00 B)\n",
       "</pre>\n"
      ],
      "text/plain": [
       "\u001b[1m Non-trainable params: \u001b[0m\u001b[38;5;34m0\u001b[0m (0.00 B)\n"
      ]
     },
     "metadata": {},
     "output_type": "display_data"
    }
   ],
   "source": [
    "model.summary()"
   ]
  },
  {
   "cell_type": "code",
   "execution_count": 127,
   "id": "5537363d-db91-497d-aae2-d288a9e9d1c5",
   "metadata": {},
   "outputs": [],
   "source": [
    "# Model derlemesi: optimizer(adam: büyük veri ve kompleks ağlar için idealdir)\n",
    "# model derlemesi: loss(categorical_crossentropy)\n",
    "# model derlemesi: metric(accuracy)\n",
    "model.compile(optimizer=\"adam\", loss=\"categorical_crossentropy\", metrics=[\"accuracy\"])"
   ]
  },
  {
   "cell_type": "markdown",
   "id": "8ba2526f-6329-4b40-b728-0b10fb73f307",
   "metadata": {},
   "source": [
    "## Callback'lerin tanımlanması ve ANN eğitilmesi"
   ]
  },
  {
   "cell_type": "code",
   "execution_count": 136,
   "id": "f146a5cf-1064-499b-9db9-83d82242ae74",
   "metadata": {},
   "outputs": [
    {
     "name": "stdout",
     "output_type": "stream",
     "text": [
      "Epoch 1/20\n",
      "\u001b[1m750/750\u001b[0m \u001b[32m━━━━━━━━━━━━━━━━━━━━\u001b[0m\u001b[37m\u001b[0m \u001b[1m7s\u001b[0m 10ms/step - accuracy: 0.9807 - loss: 0.0588 - val_accuracy: 0.9728 - val_loss: 0.1005\n",
      "Epoch 2/20\n",
      "\u001b[1m750/750\u001b[0m \u001b[32m━━━━━━━━━━━━━━━━━━━━\u001b[0m\u001b[37m\u001b[0m \u001b[1m11s\u001b[0m 11ms/step - accuracy: 0.9903 - loss: 0.0299 - val_accuracy: 0.9762 - val_loss: 0.0861\n",
      "Epoch 3/20\n",
      "\u001b[1m750/750\u001b[0m \u001b[32m━━━━━━━━━━━━━━━━━━━━\u001b[0m\u001b[37m\u001b[0m \u001b[1m8s\u001b[0m 10ms/step - accuracy: 0.9940 - loss: 0.0177 - val_accuracy: 0.9747 - val_loss: 0.1050\n",
      "Epoch 4/20\n",
      "\u001b[1m750/750\u001b[0m \u001b[32m━━━━━━━━━━━━━━━━━━━━\u001b[0m\u001b[37m\u001b[0m \u001b[1m10s\u001b[0m 10ms/step - accuracy: 0.9927 - loss: 0.0208 - val_accuracy: 0.9783 - val_loss: 0.0944\n",
      "Epoch 5/20\n",
      "\u001b[1m750/750\u001b[0m \u001b[32m━━━━━━━━━━━━━━━━━━━━\u001b[0m\u001b[37m\u001b[0m \u001b[1m8s\u001b[0m 11ms/step - accuracy: 0.9950 - loss: 0.0157 - val_accuracy: 0.9750 - val_loss: 0.1112\n",
      "Epoch 6/20\n",
      "\u001b[1m750/750\u001b[0m \u001b[32m━━━━━━━━━━━━━━━━━━━━\u001b[0m\u001b[37m\u001b[0m \u001b[1m8s\u001b[0m 10ms/step - accuracy: 0.9944 - loss: 0.0161 - val_accuracy: 0.9788 - val_loss: 0.0925\n",
      "Epoch 7/20\n",
      "\u001b[1m750/750\u001b[0m \u001b[32m━━━━━━━━━━━━━━━━━━━━\u001b[0m\u001b[37m\u001b[0m \u001b[1m11s\u001b[0m 11ms/step - accuracy: 0.9962 - loss: 0.0103 - val_accuracy: 0.9760 - val_loss: 0.1186\n"
     ]
    }
   ],
   "source": [
    "# Callback'lerin tanımlanması ve ANN eğitilmesi\n",
    "\n",
    "# Erken durdurma: eğer val_loss iyileşmiyorsa eğitimi durduralım\n",
    "early_stopping = EarlyStopping(monitor=\"val_loss\",patience=5 ,restore_best_weights=True)\n",
    "\n",
    "# model checkpoint en iyi modelin ağırlıklarını kaydeder\n",
    "checkpoint = ModelCheckpoint(filepath=\"ann_best_model.keras\", monitor=\"val_loss\", save_best_only=True)\n",
    "\n",
    "# model training: 10 epochs, batch size 64, validation set orani %20\n",
    "history = model.fit(x_train, y_train, epochs = 20, batch_size=64, validation_split=0.2, callbacks=[early_stopping, checkpoint])"
   ]
  },
  {
   "cell_type": "markdown",
   "id": "312a84da-5129-40e2-a2a5-867ad678ddeb",
   "metadata": {},
   "source": [
    "## Model evalutaion, görselleştirme, model kaydetme ve yükleme "
   ]
  },
  {
   "cell_type": "code",
   "execution_count": 137,
   "id": "ffb0572d-c21b-4b86-8b66-10dd0eddd7eb",
   "metadata": {},
   "outputs": [
    {
     "name": "stdout",
     "output_type": "stream",
     "text": [
      "\u001b[1m157/157\u001b[0m \u001b[32m━━━━━━━━━━━━━━━━━━━━\u001b[0m\u001b[37m\u001b[0m \u001b[1m1s\u001b[0m 4ms/step - accuracy: 0.9747 - loss: 0.0863\n"
     ]
    }
   ],
   "source": [
    "# test verisi ile model performansı değerlendirme\n",
    "test_loss, test_acc = model.evaluate(x_test, y_test, batch_size = 64, callbacks=[early_stopping, checkpoint])"
   ]
  },
  {
   "cell_type": "code",
   "execution_count": 138,
   "id": "d9ba58f2-28d6-423b-814b-ca9c120914af",
   "metadata": {},
   "outputs": [
    {
     "name": "stdout",
     "output_type": "stream",
     "text": [
      "Test Accuracy: 0.98, Test Loss: 0.07\n"
     ]
    }
   ],
   "source": [
    "print(f\"Test Accuracy: {test_acc:.2f}, Test Loss: {test_loss:.2f}\")"
   ]
  },
  {
   "cell_type": "code",
   "execution_count": 160,
   "id": "ca408061-397e-45f5-9a2a-65600ffe1c5b",
   "metadata": {},
   "outputs": [
    {
     "data": {
      "image/png": "[encoded data removed]",
      "text/plain": [
       "<Figure size 1000x500 with 2 Axes>"
      ]
     },
     "metadata": {},
     "output_type": "display_data"
    }
   ],
   "source": [
    "# training and validation accuracy görselleştirme\n",
    "fig,ax = plt.subplots(1,2, figsize=(10,5))\n",
    "ax[0].plot(history.history[\"accuracy\"], \"o-\", label=\"Train Accuracy\")\n",
    "ax[0].plot(history.history[\"val_accuracy\"], \"s-\", label=\"Validation Accuracy\")\n",
    "ax[0].set_title(\"ANN Accuracies on MNIST Data Set\")\n",
    "ax[0].set_xlabel(\"epochs\")\n",
    "ax[0].set_ylabel(\"Accuracy\")\n",
    "ax[0].legend()\n",
    "\n",
    "ax[1].plot(history.history[\"loss\"], \"o-\", label=\"Train Loss\")\n",
    "ax[1].plot(history.history[\"val_loss\"], \"s-\", label=\"Validation Loss\")\n",
    "ax[1].set_title(\"ANN Losses on MNIST Data Set\")\n",
    "ax[1].set_xlabel(\"epochs\")\n",
    "ax[1].set_ylabel(\"Loss\")\n",
    "ax[1].legend()\n",
    "\n",
    "\n",
    "plt.show()"
   ]
  },
  {
   "cell_type": "code",
   "execution_count": 162,
   "id": "8d010e1b-401e-4303-89a7-16d20bdeb590",
   "metadata": {},
   "outputs": [],
   "source": [
    "# modeli kaydet\n",
    "model.save(\"final_mnist_ann_model.keras\")"
   ]
  },
  {
   "cell_type": "code",
   "execution_count": 163,
   "id": "8b424ccc-341a-4a81-b656-9ca38800a099",
   "metadata": {},
   "outputs": [],
   "source": [
    "loaded_model = load_model(\"final_mnist_ann_model.keras\")"
   ]
  },
  {
   "cell_type": "code",
   "execution_count": 166,
   "id": "4bc8711d-cef8-4df4-b0f0-cdb8b9d17104",
   "metadata": {},
   "outputs": [
    {
     "name": "stdout",
     "output_type": "stream",
     "text": [
      "\u001b[1m1875/1875\u001b[0m \u001b[32m━━━━━━━━━━━━━━━━━━━━\u001b[0m\u001b[37m\u001b[0m \u001b[1m15s\u001b[0m 7ms/step - accuracy: 0.9906 - loss: 0.0362\n"
     ]
    },
    {
     "data": {
      "text/plain": [
       "<keras.src.callbacks.history.History at 0x14ad5b42480>"
      ]
     },
     "execution_count": 166,
     "metadata": {},
     "output_type": "execute_result"
    }
   ],
   "source": [
    "loaded_model.fit(x_train, y_train)"
   ]
  },
  {
   "cell_type": "code",
   "execution_count": 167,
   "id": "d250f3a0-e0cc-4492-897e-502cdcdd5870",
   "metadata": {},
   "outputs": [
    {
     "name": "stdout",
     "output_type": "stream",
     "text": [
      "\u001b[1m313/313\u001b[0m \u001b[32m━━━━━━━━━━━━━━━━━━━━\u001b[0m\u001b[37m\u001b[0m \u001b[1m1s\u001b[0m 3ms/step - accuracy: 0.9803 - loss: 0.0748\n"
     ]
    },
    {
     "data": {
      "text/plain": [
       "[0.0639607384800911, 0.9843999743461609]"
      ]
     },
     "execution_count": 167,
     "metadata": {},
     "output_type": "execute_result"
    }
   ],
   "source": [
    "loaded_model.evaluate(x_test,  y_test)"
   ]
  },
  {
   "cell_type": "code",
   "execution_count": null,
   "id": "68ed879c-2e0c-45b7-b42f-9a9dd09f7830",
   "metadata": {},
   "outputs": [],
   "source": []
  },
  {
   "cell_type": "code",
   "execution_count": null,
   "id": "b7f5769c-227d-4b47-9cf2-8e46d974f06a",
   "metadata": {},
   "outputs": [],
   "source": []
  },
  {
   "cell_type": "code",
   "execution_count": null,
   "id": "83405788-2f1a-4c54-95a1-ab2539d07464",
   "metadata": {},
   "outputs": [],
   "source": []
  },
  {
   "cell_type": "code",
   "execution_count": null,
   "id": "ff2eadb4-b806-42b5-95a5-af63de3fbea8",
   "metadata": {},
   "outputs": [],
   "source": []
  }
 ],
 "metadata": {
  "kernelspec": {
   "display_name": "Python 3 (ipykernel)",
   "language": "python",
   "name": "python3"
  },
  "language_info": {
   "codemirror_mode": {
    "name": "ipython",
    "version": 3
   },
   "file_extension": ".py",
   "mimetype": "text/x-python",
   "name": "python",
   "nbconvert_exporter": "python",
   "pygments_lexer": "ipython3",
   "version": "3.12.7"
  }
 },
 "nbformat": 4,
 "nbformat_minor": 5
}
